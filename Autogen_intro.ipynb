{
 "cells": [
  {
   "cell_type": "markdown",
   "id": "3e5b8c48",
   "metadata": {},
   "source": [
    "# AutoGen AgentChat – Finance Mini‑Workshop\n",
    "Welcome! This notebook walks you through three incremental steps:\n",
    "1. **A single agent** – like hiring one junior analyst.\n",
    "2. **Adding tools** – giving that analyst a Bloomberg terminal.\n",
    "3. **Forming a team** – multiple specialists who chat to solve a task.\n",
    "\n",
    "Run each cell and read the comments. ⚠️ Make sure you have an OpenAI‑compatible key in your environment:\n",
    "```bash\n",
    "export OPENAI_API_KEY=\"sk‑…\"\n",
    "```\n"
   ]
  },
  {
   "cell_type": "markdown",
   "id": "3cd2e3d3",
   "metadata": {},
   "source": [
    "## Setup\n",
    "Install the libraries if you haven’t already (uncomment the pip line if running for the first time)."
   ]
  },
  {
   "cell_type": "code",
   "execution_count": null,
   "id": "e647dda6",
   "metadata": {},
   "outputs": [],
   "source": [
    "# !pip install -U \"autogen-agentchat\" \"autogen-ext[openai]\" --quiet\n",
    "! pip install -U \"autogen-agentchat\" \"autogen-ext[openai]\" pandas python-dotenv"
   ]
  },
  {
   "cell_type": "code",
   "execution_count": 30,
   "id": "585b9a0623eea20e",
   "metadata": {
    "ExecuteTime": {
     "end_time": "2025-07-02T11:28:55.326572Z",
     "start_time": "2025-07-02T11:28:55.323371Z"
    }
   },
   "outputs": [],
   "source": [
    "API_KEY=''"
   ]
  },
  {
   "cell_type": "markdown",
   "id": "4fa5d061",
   "metadata": {},
   "source": [
    "## 1️⃣  A single agent\n",
    "We start with one chat‑based **AssistantAgent** called `Greeter`. No tools yet – it just chats using the OpenAI model."
   ]
  },
  {
   "cell_type": "code",
   "execution_count": 31,
   "id": "be697197",
   "metadata": {
    "ExecuteTime": {
     "end_time": "2025-07-02T11:30:19.055135Z",
     "start_time": "2025-07-02T11:30:19.006831Z"
    }
   },
   "outputs": [
    {
     "name": "stdout",
     "output_type": "stream",
     "text": [
      "---------- TextMessage (user) ----------\n",
      "Give me a one-sentence summary of Apple's stock performance.\n",
      "---------- TextMessage (Greeter) ----------\n",
      "Apple's stock performance has generally shown strong growth, achieving new highs in recent years despite some volatility.\n"
     ]
    }
   ],
   "source": [
    "from autogen_agentchat.agents import AssistantAgent\n",
    "from autogen_agentchat.ui import Console\n",
    "from autogen_ext.models.openai import OpenAIChatCompletionClient\n",
    "import asyncio\n",
    "\n",
    "# Create a model client (replace model if you prefer)\n",
    "model_client = OpenAIChatCompletionClient(model=\"gpt-4o\",api_key=API_KEY)\n",
    "\n",
    "# --- define the agent -------------------------------------------------\n",
    "greeter = AssistantAgent(\n",
    "    name=\"Greeter\",\n",
    "    model_client=model_client,\n",
    "    system_message=\"You are Greeter, a friendly finance assistant. Keep replies short.\"\n",
    ")\n",
    "\n",
    "# --- run a single message --------------------------------------------\n",
    "async def single_demo():\n",
    "    task = \"Give me a one-sentence summary of Apple's stock performance.\"\n",
    "    await Console(greeter.run_stream(task=task))\n",
    "\n",
    "await single_demo()"
   ]
  },
  {
   "cell_type": "markdown",
   "id": "624969a6",
   "metadata": {},
   "source": [
    "## 2️⃣  Introducing tools\n",
    "Agents become far more useful when you give them functions they can call. We’ll define a *very* simple price lookup tool and attach it to a new agent."
   ]
  },
  {
   "cell_type": "code",
   "execution_count": 32,
   "id": "8620ed6f9ff0c840",
   "metadata": {},
   "outputs": [
    {
     "name": "stdout",
     "output_type": "stream",
     "text": [
      "---------- TextMessage (user) ----------\n",
      "What is Apple's current price and how does it compare to yesterday's $192 close?\n",
      "---------- ToolCallRequestEvent (PriceAgent) ----------\n",
      "[FunctionCall(id='call_dGb9llbFpfF3b1BgIzaZeeY0', arguments='{\"ticker\":\"AAPL\"}', name='get_stock_price')]\n",
      "---------- ToolCallExecutionEvent (PriceAgent) ----------\n",
      "[FunctionExecutionResult(content='180.15', name='get_stock_price', call_id='call_dGb9llbFpfF3b1BgIzaZeeY0', is_error=False)]\n",
      "---------- ToolCallSummaryMessage (PriceAgent) ----------\n",
      "180.15\n"
     ]
    }
   ],
   "source": [
    "import random\n",
    "from typing import List\n",
    "\n",
    "\n",
    "# ---- TOOL DEFINITIONS ------------------------------------------------\n",
    "def get_stock_price(ticker: str) -> float:\n",
    "    \"\"\"Return a *mock* price for the given ticker (USD).\"\"\"\n",
    "    price_table = {\"AAPL\": 180.15, \"MSFT\": 410.22, \"GOOG\": 156.42}\n",
    "    return price_table.get(ticker.upper(), random.uniform(50, 500))\n",
    "\n",
    "# ---- AGENT WITH TOOL -------------------------------------------------\n",
    "price_agent = AssistantAgent(\n",
    "    name=\"PriceAgent\",\n",
    "    model_client=model_client,\n",
    "    system_message=(\n",
    "        \"You are PriceAgent. Use the get_stock_price function to answer price questions.\"\n",
    "    ),\n",
    "    tools=[get_stock_price],   # auto‑wrapped as FunctionTool\n",
    ")\n",
    "\n",
    "# ---- run a demo ------------------------------------------------------\n",
    "async def tool_demo():\n",
    "    task = \"What is Apple's current price and how does it compare to yesterday's $192 close?\"\n",
    "    await Console(price_agent.run_stream(task=task))\n",
    "\n",
    "await tool_demo()\n"
   ]
  },
  {
   "cell_type": "markdown",
   "id": "a2e01f5406ad9e36",
   "metadata": {},
   "source": [
    "## 3️⃣  Building a team\n",
    "Now let’s put several specialists around a *virtual* desk. They will chat in round‑robin fashion until a termination condition is met."
   ]
  },
  {
   "cell_type": "code",
   "execution_count": 33,
   "id": "45889f8125adec30",
   "metadata": {},
   "outputs": [
    {
     "name": "stdout",
     "output_type": "stream",
     "text": [
      "---------- TextMessage (user) ----------\n",
      "ALERT 08:50 – AAPL down -6.2% intraday\n",
      "Position: $100,000,000. VaR limit $5m.\n",
      "Please analyse cause, risk and propose one action.\n",
      "---------- ToolCallRequestEvent (PriceWatcher) ----------\n",
      "[FunctionCall(id='call_RL2x6YqPX0ljBNgqzApovPHE', arguments='{\"ticker\": \"AAPL\"}', name='get_stock_price'), FunctionCall(id='call_Z5guApyhePHMwIcoLCTRRJgX', arguments='{\"ticker\": \"AAPL\"}', name='get_news_headlines')]\n",
      "---------- ToolCallExecutionEvent (PriceWatcher) ----------\n",
      "[FunctionExecutionResult(content='180.15', name='get_stock_price', call_id='call_RL2x6YqPX0ljBNgqzApovPHE', is_error=False), FunctionExecutionResult(content=\"['Apple supplier faces production hiccup, cutting quarterly output 8%', 'Analysts debate impact of slower iPhone upgrade cycle', 'EU launches investigation into iOS anti‑steering rules']\", name='get_news_headlines', call_id='call_Z5guApyhePHMwIcoLCTRRJgX', is_error=False)]\n",
      "---------- ToolCallSummaryMessage (PriceWatcher) ----------\n",
      "180.15\n",
      "['Apple supplier faces production hiccup, cutting quarterly output 8%', 'Analysts debate impact of slower iPhone upgrade cycle', 'EU launches investigation into iOS anti‑steering rules']\n",
      "---------- TextMessage (NewsSummarizer) ----------\n",
      "Apple's stock dropped 6.2% intraday, potentially due to production issues with a supplier cutting output by 8%, concerns about a slower iPhone upgrade cycle, and an EU investigation into iOS anti-steering rules. This decline significantly exceeds the VaR limit, suggesting a reevaluation of the portfolio's exposure to Apple might mitigate further potential losses.\n",
      "---------- ToolCallRequestEvent (RiskOfficer) ----------\n",
      "[FunctionCall(id='call_wFCZu0tAnIM4aoYdKAEmNgtT', arguments='{\"ticker\":\"AAPL\"}', name='get_stock_price')]\n",
      "---------- ToolCallExecutionEvent (RiskOfficer) ----------\n",
      "[FunctionExecutionResult(content='180.15', name='get_stock_price', call_id='call_wFCZu0tAnIM4aoYdKAEmNgtT', is_error=False)]\n",
      "---------- ToolCallSummaryMessage (RiskOfficer) ----------\n",
      "180.15\n",
      "---------- TextMessage (TraderBot) ----------\n",
      "**Trade Action:** Hold\n",
      "\n",
      "**Rationale:** The 6.2% drop due to supplier issues and regulatory concerns suggests temporary market reaction. Holding can prevent realizing losses prematurely, while monitoring for further developments to reassess risk exposure beyond your VaR limit.\n",
      "---------- TextMessage (PriceWatcher) ----------\n",
      "**Analysis Summary:**\n",
      "\n",
      "- **Cause:** Apple shares fell more than 6% due to production cuts by a key supplier, concerns over slower iPhone upgrades, and regulatory challenges from the EU.\n",
      "- **Risk:** The current exposure has exceeded your VaR limit with this drop. Continued monitoring is needed to balance risk without hasty decisions.\n",
      "- **Proposed Action:** Hold your position to avoid locking in losses while you stay alert for further relevant updates. Review exposure limits and consider hedge strategies to manage downside risk.\n"
     ]
    }
   ],
   "source": [
    "from autogen_agentchat.conditions import MaxMessageTermination\n",
    "from autogen_agentchat.teams import RoundRobinGroupChat\n",
    "from datetime import datetime\n",
    "\n",
    "# ---- another tool for headlines -------------------------------------\n",
    "def get_news_headlines(ticker: str) -> List[str]:\n",
    "    \"\"\"Return *mock* list of news headlines for the ticker.\"\"\"\n",
    "    sample_news = {\n",
    "        \"AAPL\": [\n",
    "            \"Apple supplier faces production hiccup, cutting quarterly output 8%\",\n",
    "            \"Analysts debate impact of slower iPhone upgrade cycle\",\n",
    "            \"EU launches investigation into iOS anti‑steering rules\",\n",
    "        ]\n",
    "    }\n",
    "    return sample_news.get(ticker.upper(), [\"No material headlines found.\"])\n",
    "\n",
    "# ---- helper to create agents ----------------------------------------\n",
    "def make_agent(name: str, role: str):\n",
    "    return AssistantAgent(\n",
    "        name=name,\n",
    "        model_client=model_client,\n",
    "        system_message=f\"You are {name}. {role} Keep replies concise.\",\n",
    "        tools=[get_stock_price, get_news_headlines],\n",
    "    )\n",
    "\n",
    "price_watcher = make_agent(\n",
    "    \"PriceWatcher\",\n",
    "    \"Track AAPL and explain any intraday move >5% using headlines.\"\n",
    ")\n",
    "news_summarizer = make_agent(\n",
    "    \"NewsSummarizer\",\n",
    "    \"Condense raw headlines into two sentences.\"\n",
    ")\n",
    "risk_officer = make_agent(\n",
    "    \"RiskOfficer\",\n",
    "    \"Assess how the price move affects portfolio VaR; flag if new VaR > $5m.\"\n",
    ")\n",
    "trader_bot = make_agent(\n",
    "    \"TraderBot\",\n",
    "    \"Suggest one actionable trade (Buy/Sell/Hold) with a one-line rationale.\"\n",
    ")\n",
    "\n",
    "team = RoundRobinGroupChat(\n",
    "    participants=[price_watcher, news_summarizer, risk_officer, trader_bot],\n",
    "    termination_condition=MaxMessageTermination(6),\n",
    ")\n",
    "\n",
    "# ---- trigger an alert ------------------------------------------------\n",
    "PORTFOLIO = {\"AAPL\": 100_000_000}  # USD notional\n",
    "yesterday_close = 192.00\n",
    "now_price = get_stock_price(\"AAPL\")\n",
    "pct_move = (now_price - yesterday_close) / yesterday_close * 100\n",
    "\n",
    "async def team_demo():\n",
    "    if pct_move < -5:\n",
    "        alert = (\n",
    "            f\"ALERT {datetime.now().strftime('%H:%M')} – AAPL down {pct_move:.1f}% intraday\\n\"\n",
    "            f\"Position: ${PORTFOLIO['AAPL']:,.0f}. VaR limit $5m.\\n\"\n",
    "            \"Please analyse cause, risk and propose one action.\"\n",
    "        )\n",
    "        await Console(team.run_stream(task=alert))\n",
    "    else:\n",
    "        print(f\"No alert – AAPL move only {pct_move:.2f}% (<5%). Price ${now_price:.2f}\")\n",
    "\n",
    "await team_demo()\n"
   ]
  },
  {
   "cell_type": "markdown",
   "id": "18baa78d403e07f9",
   "metadata": {},
   "source": [
    "### 🎉 You’ve just seen…\n",
    "* A lone agent chatting.\n",
    "* A tool‑enabled agent.\n",
    "* A multi‑agent team solving a task.\n",
    "\n",
    "From here you can:\n",
    "* Swap `RoundRobinGroupChat` for `SelectorGroupChat` to route tasks dynamically.\n",
    "* Replace the mock tools with real data feeds (e.g., Bloomberg, SQL, web APIs).\n",
    "* Add logging, memory, or a custom termination strategy.\n",
    "\n",
    "Happy experimenting! 🚀"
   ]
  },
  {
   "cell_type": "code",
   "execution_count": null,
   "id": "dd3d18f95af36798",
   "metadata": {},
   "outputs": [],
   "source": []
  }
 ],
 "metadata": {
  "kernelspec": {
   "display_name": "Python 3 (ipykernel)",
   "language": "python",
   "name": "python3"
  },
  "language_info": {
   "codemirror_mode": {
    "name": "ipython",
    "version": 3
   },
   "file_extension": ".py",
   "mimetype": "text/x-python",
   "name": "python",
   "nbconvert_exporter": "python",
   "pygments_lexer": "ipython3",
   "version": "3.12.4"
  }
 },
 "nbformat": 4,
 "nbformat_minor": 5
}
