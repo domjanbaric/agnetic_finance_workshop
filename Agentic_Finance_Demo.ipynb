{
 "cells": [
  {
   "cell_type": "markdown",
   "id": "bf30f0d5",
   "metadata": {},
   "source": [
    "# Agentic Finance Demo – Autogen AgentChat\n",
    "\n",
    "This notebook shows how to build a **three‑agent pipeline** that answers liquidity questions using *pre‑computed* metrics for three tickers (`TSLA.US`, `AMZN.US`, `AAPL.US`).\n",
    "\n",
    "**Agents**\n",
    "1. **Planner** – rewrites the user question and decides which ticker and time‑scope (“latest” vs “all”).\n",
    "2. **Executor mini‑team** – `ExecutorWorker` fetches the JSON via simple tools; `Critic` approves.\n",
    "3. **Financial** – crafts the final answer, computing ratios inline.\n",
    "\n",
    "We keep the context small because agents read a tidy JSON of ratios, **not raw CSVs**."
   ]
  },
  {
   "cell_type": "markdown",
   "id": "cf52431b",
   "metadata": {},
   "source": [
    "## 0 — Install & configure\n",
    "```bash\n",
    "pip install -U \"autogen-agentchat\" \"autogen-ext[openai]\" pandas python-dotenv\n",
    "```\n",
    "Set your OpenAI key **before** running:\n",
    "```python\n",
    "OPENAI_API_KEY=...\n",
    "```"
   ]
  },
  {
   "cell_type": "code",
   "execution_count": null,
   "id": "990480bc-ebc2-43ee-bdf7-a05a9513bad1",
   "metadata": {},
   "outputs": [],
   "source": [
    "!pip install -U \"autogen-agentchat\" \"autogen-ext[openai]\" pandas python-dotenv"
   ]
  },
  {
   "cell_type": "code",
   "execution_count": null,
   "id": "4cbff12d",
   "metadata": {},
   "outputs": [],
   "source": [
    "import warnings, os, json, asyncio, pandas as pd\n",
    "warnings.filterwarnings('ignore')"
   ]
  },
  {
   "cell_type": "code",
   "execution_count": 5,
   "id": "1b34e337-271c-4476-8840-59b2fb3a1e3d",
   "metadata": {},
   "outputs": [],
   "source": [
    "API_KEY=''"
   ]
  },
  {
   "cell_type": "markdown",
   "id": "23093ef1",
   "metadata": {},
   "source": [
    "## 1 — Load pre‑computed metrics & tickers"
   ]
  },
  {
   "cell_type": "code",
   "execution_count": 6,
   "id": "e4164351",
   "metadata": {},
   "outputs": [
    {
     "name": "stdout",
     "output_type": "stream",
     "text": [
      "Loaded metrics for: TSLA.US, AAPL.US, AMZN.US\n"
     ]
    }
   ],
   "source": [
    "METRICS = json.load(open('metrics.json'))\n",
    "SYMBOLS = [\"TSLA.US\", \"AMZN.US\", \"AAPL.US\"]\n",
    "print(f\"Loaded metrics for: {', '.join(METRICS.keys())}\")"
   ]
  },
  {
   "cell_type": "markdown",
   "id": "e876e951",
   "metadata": {},
   "source": [
    "## 2 — Define two tiny *tools*"
   ]
  },
  {
   "cell_type": "code",
   "execution_count": 14,
   "id": "69294fe2",
   "metadata": {},
   "outputs": [
    {
     "name": "stdout",
     "output_type": "stream",
     "text": [
      "{\"2025-03-31\": {\"current_ratio\": 2.0, \"quick_ratio\": 1.54, \"cash_ratio\": 1.24, \"debt_to_equity\": 0.67, \"free_cash_flow\":  …\n"
     ]
    }
   ],
   "source": [
    "import json\n",
    "\n",
    "# ──  helper that keeps our error-handling consistent  ────────────────\n",
    "def _symbol_is_valid(symbol: str) -> bool:\n",
    "    \"\"\"Return True only if the ticker is in our whitelist *and*\n",
    "    we actually have metrics stored for it.\"\"\"\n",
    "    return symbol in SYMBOLS and symbol in METRICS\n",
    "\n",
    "\n",
    "def get_latest_metrics(symbol: str) -> str:\n",
    "    \"\"\"\n",
    "    Return a JSON string containing **only the most recent quarter**\n",
    "    for the requested company.\n",
    "\n",
    "    Parameters\n",
    "    ----------\n",
    "    symbol : str\n",
    "        One of: \"TSLA.US\", \"AMZN.US\", \"AAPL.US\"\n",
    "\n",
    "    Returns\n",
    "    -------\n",
    "    str\n",
    "        JSON string of the form:\n",
    "        { \"YYYY-MM-DD\": {<metric>: <value>, ...} }\n",
    "        or \"{}\" if the symbol is unknown.\n",
    "    \"\"\"\n",
    "    if not _symbol_is_valid(symbol):\n",
    "        return \"{}\"\n",
    "\n",
    "    # Pick the chronologically-last date key.\n",
    "    latest_date = max(METRICS[symbol])          # dates are \"YYYY-MM-DD\"\n",
    "    latest_data = METRICS[symbol][latest_date]\n",
    "\n",
    "    return json.dumps({latest_date: latest_data})\n",
    "\n",
    "\n",
    "def get_all_metrics(symbol: str) -> str:\n",
    "    \"\"\"\n",
    "    Return **every stored quarter** for the symbol as one JSON string.\n",
    "\n",
    "    Same return contract as `get_latest_metrics`, but the dictionary\n",
    "    can contain many date keys.\n",
    "    \"\"\"\n",
    "    if not _symbol_is_valid(symbol):\n",
    "        return \"{}\"\n",
    "\n",
    "    return json.dumps(METRICS[symbol])\n",
    "# ── register functions as LLM-callable tools  ───────────────────────\n",
    "TOOLS = [get_latest_metrics, get_all_metrics]\n",
    "\n",
    "# quick sanity check\n",
    "print(get_latest_metrics(\"TSLA.US\")[:120] + \"  …\")"
   ]
  },
  {
   "cell_type": "markdown",
   "id": "8b2d6439",
   "metadata": {},
   "source": [
    "## 3 — Shared OpenAI client"
   ]
  },
  {
   "cell_type": "code",
   "execution_count": 15,
   "id": "e10df4b1",
   "metadata": {},
   "outputs": [],
   "source": [
    "from autogen_ext.models.openai import OpenAIChatCompletionClient\n",
    "client = OpenAIChatCompletionClient(model='gpt-4o-mini', temperature=0,api_key=API_KEY)"
   ]
  },
  {
   "cell_type": "markdown",
   "id": "e5126fb9",
   "metadata": {},
   "source": [
    "## 4 — Planner agent"
   ]
  },
  {
   "cell_type": "code",
   "execution_count": 16,
   "id": "a823b024",
   "metadata": {},
   "outputs": [],
   "source": [
    "from autogen_agentchat.agents import AssistantAgent\n",
    "\n",
    "PLANNER_SYS = f\"\"\"\n",
    "Rewrite the user question briefly.\n",
    "Pick ONE ticker from: {', '.join(SYMBOLS)}.\n",
    "Return JSON ONLY: {{'refined':'...','symbol':'<ticker>','scope':'latest'|'all'}}\n",
    "\"\"\"\n",
    "Planner = AssistantAgent('Planner', system_message=PLANNER_SYS, model_client=client)"
   ]
  },
  {
   "cell_type": "markdown",
   "id": "235e7283",
   "metadata": {},
   "source": [
    "## 5 — Executor mini‑team"
   ]
  },
  {
   "cell_type": "code",
   "execution_count": 17,
   "id": "3003a6f9",
   "metadata": {},
   "outputs": [],
   "source": [
    "EXECUTOR_SYS = \"\"\"\n",
    "Input = Planner JSON. If scope=='latest' call latest_metrics(symbol) else metrics_all_dates(symbol).\n",
    "Wrap as { 'symbol':symbol, 'data':<json> } then print json.dumps(...) + APPROVE.\n",
    "\"\"\"\n",
    "ExecutorWorker = AssistantAgent('ExecutorWorker', system_message=EXECUTOR_SYS, model_client=client, tools=TOOLS, reflect_on_tool_use=True)\n",
    "\n",
    "CRITIC_SYS = \"Reply APPROVE if JSON includes data, otherwise describe what is missing.\"\n",
    "Critic = AssistantAgent('Critic', system_message=CRITIC_SYS, model_client=client)\n",
    "\n",
    "from autogen_agentchat.conditions import TextMentionTermination, MaxMessageTermination\n",
    "from autogen_agentchat.teams import RoundRobinGroupChat\n",
    "\n",
    "termination = TextMentionTermination('APPROVE') | MaxMessageTermination(12)\n",
    "executor_chat = RoundRobinGroupChat([ExecutorWorker, Critic], termination_condition=termination)"
   ]
  },
  {
   "cell_type": "markdown",
   "id": "9c929a1e",
   "metadata": {},
   "source": [
    "## 6 — Financial agent"
   ]
  },
  {
   "cell_type": "code",
   "execution_count": 18,
   "id": "435d9543",
   "metadata": {},
   "outputs": [],
   "source": [
    "FIN_SYS = \"\"\"\n",
    "You will get user_question, refined, data_json. ### Continue Prompt here ###\n",
    "\"\"\"\n",
    "Financial = AssistantAgent('Financial', system_message=FIN_SYS, model_client=client)"
   ]
  },
  {
   "cell_type": "markdown",
   "id": "88bcfd29",
   "metadata": {},
   "source": [
    "## 7 — Run the full chain"
   ]
  },
  {
   "cell_type": "code",
   "execution_count": 23,
   "id": "bc5c73d5",
   "metadata": {},
   "outputs": [
    {
     "name": "stdout",
     "output_type": "stream",
     "text": [
      "🟡 USER: Based on the most recent filings, is Tesla's liquidity position improving?\n",
      "---------- TextMessage (user) ----------\n",
      "Based on the most recent filings, is Tesla's liquidity position improving?\n",
      "---------- TextMessage (Planner) ----------\n",
      "{'refined':'Is Tesla's liquidity position improving based on recent filings?','symbol':'TSLA.US','scope':'latest'}\n",
      "\n",
      "🟠 PLANNER: {'refined':'Is Tesla's liquidity position improving based on recent filings?','symbol':'TSLA.US','scope':'latest'}\n",
      "---------- TextMessage (user) ----------\n",
      "{'refined':'Is Tesla's liquidity position improving based on recent filings?','symbol':'TSLA.US','scope':'latest'}\n",
      "---------- ToolCallRequestEvent (ExecutorWorker) ----------\n",
      "[FunctionCall(id='call_Hiw0C6FGId8dufh31aZNpoPQ', arguments='{\"symbol\":\"TSLA.US\"}', name='get_latest_metrics')]\n",
      "---------- ToolCallExecutionEvent (ExecutorWorker) ----------\n",
      "[FunctionExecutionResult(content='{\"2025-03-31\": {\"current_ratio\": 2.0, \"quick_ratio\": 1.54, \"cash_ratio\": 1.24, \"debt_to_equity\": 0.67, \"free_cash_flow\": 664000000, \"fcf_margin\": 0.03, \"net_margin\": 0.02, \"shares_out\": 3521000000}}', name='get_latest_metrics', call_id='call_Hiw0C6FGId8dufh31aZNpoPQ', is_error=False)]\n",
      "---------- TextMessage (ExecutorWorker) ----------\n",
      "{ \"symbol\": \"TSLA.US\", \"data\": { \"2025-03-31\": { \"current_ratio\": 2.0, \"quick_ratio\": 1.54, \"cash_ratio\": 1.24, \"debt_to_equity\": 0.67, \"free_cash_flow\": 664000000, \"fcf_margin\": 0.03, \"net_margin\": 0.02, \"shares_out\": 3521000000 } } } APPROVE\n",
      "\n",
      "🟢 EXECUTOR (truncated): { \"symbol\": \"TSLA.US\", \"data\": { \"2025-03-31\": { \"current_ratio\": 2.0, \"quick_ratio\": 1.54, \"cash_ratio\": 1.24, \"debt_to …\n",
      "---------- TextMessage (user) ----------\n",
      "user_question:Based on the most recent filings, is Tesla's liquidity position improving?\n",
      "refined:{'refined':'Is Tesla's liquidity position improving based on recent filings?','symbol':'TSLA.US','scope':'latest'}\n",
      "data_json:{ \"symbol\": \"TSLA.US\", \"data\": { \"2025-03-31\": { \"current_ratio\": 2.0, \"quick_ratio\": 1.54, \"cash_ratio\": 1.24, \"debt_to_equity\": 0.67, \"free_cash_flow\": 664000000, \"fcf_margin\": 0.03, \"net_margin\": 0.02, \"shares_out\": 3521000000 } } } APPROVE\n",
      "---------- TextMessage (Financial) ----------\n",
      "To assess whether Tesla's liquidity position is improving based on the most recent filings, we can look at several key liquidity ratios:\n",
      "\n",
      "1. **Current Ratio**: This ratio measures a company's ability to pay short-term obligations with its short-term assets. A current ratio of 2.0 indicates that Tesla has twice as many current assets as current liabilities, which is generally considered a strong liquidity position.\n",
      "\n",
      "2. **Quick Ratio**: This ratio is similar to the current ratio but excludes inventory from current assets. Tesla's quick ratio of 1.54 suggests that it can cover its short-term liabilities without relying on the sale of inventory, which is a positive sign of liquidity.\n",
      "\n",
      "3. **Cash Ratio**: This is the most conservative liquidity ratio, measuring the amount of cash and cash equivalents available to cover current liabilities. Tesla's cash ratio of 1.24 indicates that it has enough cash to cover its current liabilities more than once, which is very strong.\n",
      "\n",
      "4. **Debt to Equity Ratio**: This ratio indicates the relative proportion of shareholders' equity and debt used to finance a company's assets. A debt to equity ratio of 0.67 suggests that Tesla is using a moderate amount of debt compared to its equity, which can be a sign of financial stability.\n",
      "\n",
      "5. **Free Cash Flow (FCF)**: Tesla's free cash flow of $664 million indicates that the company is generating cash after accounting for capital expenditures, which is crucial for maintaining liquidity.\n",
      "\n",
      "6. **Margins**: The free cash flow margin of 3% and net margin of 2% show that while Tesla is generating cash, its profitability margins are relatively low, which could impact liquidity in the long term if not improved.\n",
      "\n",
      "In summary, Tesla's liquidity position appears to be strong and potentially improving, as indicated by its solid current, quick, and cash ratios, along with positive free cash flow. However, the company should focus on improving its profit margins to enhance its overall financial health.\n",
      "\n",
      "🔵 ANSWER:\n",
      " To assess whether Tesla's liquidity position is improving based on the most recent filings, we can look at several key liquidity ratios:\n",
      "\n",
      "1. **Current Ratio**: This ratio measures a company's ability to pay short-term obligations with its short-term assets. A current ratio of 2.0 indicates that Tesla has twice as many current assets as current liabilities, which is generally considered a strong liquidity position.\n",
      "\n",
      "2. **Quick Ratio**: This ratio is similar to the current ratio but excludes inventory from current assets. Tesla's quick ratio of 1.54 suggests that it can cover its short-term liabilities without relying on the sale of inventory, which is a positive sign of liquidity.\n",
      "\n",
      "3. **Cash Ratio**: This is the most conservative liquidity ratio, measuring the amount of cash and cash equivalents available to cover current liabilities. Tesla's cash ratio of 1.24 indicates that it has enough cash to cover its current liabilities more than once, which is very strong.\n",
      "\n",
      "4. **Debt to Equity Ratio**: This ratio indicates the relative proportion of shareholders' equity and debt used to finance a company's assets. A debt to equity ratio of 0.67 suggests that Tesla is using a moderate amount of debt compared to its equity, which can be a sign of financial stability.\n",
      "\n",
      "5. **Free Cash Flow (FCF)**: Tesla's free cash flow of $664 million indicates that the company is generating cash after accounting for capital expenditures, which is crucial for maintaining liquidity.\n",
      "\n",
      "6. **Margins**: The free cash flow margin of 3% and net margin of 2% show that while Tesla is generating cash, its profitability margins are relatively low, which could impact liquidity in the long term if not improved.\n",
      "\n",
      "In summary, Tesla's liquidity position appears to be strong and potentially improving, as indicated by its solid current, quick, and cash ratios, along with positive free cash flow. However, the company should focus on improving its profit margins to enhance its overall financial health.\n"
     ]
    }
   ],
   "source": [
    "from autogen_agentchat.ui import Console\n",
    "\n",
    "async def answer(q:str):\n",
    "    print('🟡 USER:', q)\n",
    "    plan_res = await Console(Planner.run_stream(task=q))\n",
    "    plan = plan_res.messages[-1].content\n",
    "    print('\\n🟠 PLANNER:', plan)\n",
    "    exec_res = await Console(executor_chat.run_stream(task=plan))\n",
    "    data_msg = [m for m in exec_res.messages if m.source=='ExecutorWorker' and m.type=='TextMessage'][-1]\n",
    "    data = data_msg.content\n",
    "    print('\\n🟢 EXECUTOR (truncated):', data[:120]+' …')\n",
    "    fin = await Console(Financial.run_stream(task=f'user_question:{q}\\nrefined:{plan}\\ndata_json:{data}'))\n",
    "    print('\\n🔵 ANSWER:\\n', fin.messages[-1].content)\n",
    "\n",
    "await answer(\"Based on the most recent filings, is Tesla's liquidity position improving?\")"
   ]
  },
  {
   "cell_type": "code",
   "execution_count": null,
   "id": "5ebe20d4-70de-40bb-b8de-e19390f92b70",
   "metadata": {},
   "outputs": [],
   "source": []
  }
 ],
 "metadata": {
  "kernelspec": {
   "display_name": "Python 3 (ipykernel)",
   "language": "python",
   "name": "python3"
  },
  "language_info": {
   "codemirror_mode": {
    "name": "ipython",
    "version": 3
   },
   "file_extension": ".py",
   "mimetype": "text/x-python",
   "name": "python",
   "nbconvert_exporter": "python",
   "pygments_lexer": "ipython3",
   "version": "3.12.4"
  }
 },
 "nbformat": 4,
 "nbformat_minor": 5
}
